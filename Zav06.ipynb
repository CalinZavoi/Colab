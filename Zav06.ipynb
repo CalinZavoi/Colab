{
  "nbformat": 4,
  "nbformat_minor": 0,
  "metadata": {
    "colab": {
      "provenance": [],
      "authorship_tag": "ABX9TyPSYzOq5hMEYL6uv7jOplv3",
      "include_colab_link": true
    },
    "kernelspec": {
      "name": "python3",
      "display_name": "Python 3"
    },
    "language_info": {
      "name": "python"
    }
  },
  "cells": [
    {
      "cell_type": "markdown",
      "metadata": {
        "id": "view-in-github",
        "colab_type": "text"
      },
      "source": [
        "<a href=\"https://colab.research.google.com/github/CalinZavoi/Colab/blob/main/Zav06.ipynb\" target=\"_parent\"><img src=\"https://colab.research.google.com/assets/colab-badge.svg\" alt=\"Open In Colab\"/></a>"
      ]
    },
    {
      "cell_type": "code",
      "execution_count": null,
      "metadata": {
        "id": "4K8E7bRl7urj"
      },
      "outputs": [],
      "source": [
        "modificari de la 14:50"
      ]
    },
    {
      "cell_type": "code",
      "source": [
        "fusafsaf"
      ],
      "metadata": {
        "id": "GfSRYkUN-g38"
      },
      "execution_count": null,
      "outputs": []
    },
    {
      "cell_type": "code",
      "source": [
        "# third cell"
      ],
      "metadata": {
        "id": "lrr4jpHg-wb5"
      },
      "execution_count": null,
      "outputs": []
    }
  ]
}